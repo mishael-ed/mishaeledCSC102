{
 "cells": [
  {
   "cell_type": "code",
   "execution_count": 17,
   "id": "dc8b09ec",
   "metadata": {},
   "outputs": [
    {
     "name": "stdout",
     "output_type": "stream",
     "text": [
      "GIRL DATA:\n",
      "NAME | AGE | HEIGHT | SCORE\n",
      "Samantha | 17 | 5.5 | 80\n",
      "Jada | 16 | 6.0 | 85\n",
      "Jane | 17 | 5.4 | 70\n",
      "Claire | 18 | 5.9 | 60\n",
      "Elizabeth | 16 | 5.6 | 76\n",
      "Mary | 18 | 5.5 | 66\n",
      "Susan | 17 | 6.1 | 87\n",
      "Waje | 20 | 6.0 | 95\n",
      "Talibat | 19 | 5.7 | 50\n",
      "Lilian | 17 | 5.5 | 49\n"
     ]
    }
   ],
   "source": [
    "#girls\n",
    "\n",
    "girlnames = ['Samantha', 'Jada', 'Jane', 'Claire', 'Elizabeth', 'Mary', 'Susan', 'Waje', 'Talibat', 'Lilian']\n",
    "girlages = [17, 16, 17, 18, 16, 18, 17, 20, 19, 17]\n",
    "girlheights = [5.5, 6.0, 5.4, 5.9, 5.6, 5.5, 6.1, 6.0, 5.7, 5.5]\n",
    "girlscores = [80, 85, 70, 60, 76, 66, 87, 95, 50, 49]\n",
    "\n",
    "boynames = ['Charles', 'Jude', 'James', 'Kelvin', 'Biodun', 'Wale', 'Kunle', 'Matthew', 'Tom', 'Kayode']\n",
    "boyages = [19, 16, 18, 17, 20, 19, 16, 18, 17, 19]\n",
    "boyheights = [5.7, 5.9, 5.8, 6.1, 5.9, 5.5, 6.1, 5.4, 5.8, 5.7]\n",
    "boyscores = [74, 87, 75, 68, 66, 78, 87, 98, 54, 60]\n",
    "\n",
    "print(\"GIRL DATA:\")\n",
    "print(\"NAME | AGE | HEIGHT | SCORE\")\n",
    "\n",
    "for i in range(len(girlnames)):\n",
    "    print(girlnames[i],\"|\",girlages[i],\"|\" ,girlheights[i],\"|\",girlscores[i])\n",
    "\n",
    "print(\"BOY DATA:\")\n",
    "print(\"NAME | AGE | HEIGHT | SCORE\")\n",
    "\n",
    "\n",
    "for i in range(len(boynames)):\n",
    "    print(boynames[i],\"|\", bages[i],\"|\" ,girlheights[i],\"|\",girlscores[i])\n",
    "    \n",
    "\n"
   ]
  },
  {
   "cell_type": "code",
   "execution_count": null,
   "id": "0c661204",
   "metadata": {},
   "outputs": [],
   "source": []
  }
 ],
 "metadata": {
  "kernelspec": {
   "display_name": "Python 3 (ipykernel)",
   "language": "python",
   "name": "python3"
  },
  "language_info": {
   "codemirror_mode": {
    "name": "ipython",
    "version": 3
   },
   "file_extension": ".py",
   "mimetype": "text/x-python",
   "name": "python",
   "nbconvert_exporter": "python",
   "pygments_lexer": "ipython3",
   "version": "3.10.9"
  }
 },
 "nbformat": 4,
 "nbformat_minor": 5
}
