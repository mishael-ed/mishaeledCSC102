{
 "cells": [
  {
   "cell_type": "code",
   "execution_count": 8,
   "id": "aa370f62",
   "metadata": {},
   "outputs": [
    {
     "name": "stdout",
     "output_type": "stream",
     "text": [
      "Enter the name of the club you support: Madiba fc\n",
      "Welcome to Madiba FC!\n"
     ]
    }
   ],
   "source": [
    "from abc import ABC, abstractmethod\n",
    "\n",
    "class Coup_De_Ecriva(ABC):\n",
    "    @abstractmethod\n",
    "    def fan_page(self):\n",
    "        pass\n",
    "\n",
    "class FC_Cirok(Coup_De_Ecriva):\n",
    "    def fan_page(self):\n",
    "        print(\"Welcome to FC Cirok!\")\n",
    "\n",
    "class Madiba_FC(Coup_De_Ecriva):\n",
    "    def fan_page(self):\n",
    "        print(\"Welcome to Madiba FC!\")\n",
    "\n",
    "class Blue_Jay_FC(Coup_De_Ecriva):\n",
    "    def fan_page(self):\n",
    "        print(\"Welcome to Blue Jay FC!\")\n",
    "\n",
    "class TSG_Walker(Coup_De_Ecriva):\n",
    "    def fan_page(self):\n",
    "        print(\"Welcome to TSG Walker!\")\n",
    "\n",
    "\n",
    "club_name = input(\"Enter the name of the club you support: \")\n",
    "\n",
    "if club_name.lower() == \"fc cirok\":\n",
    "    f = FC_Cirok()\n",
    "    f.fan_page()\n",
    "    \n",
    "elif club_name.lower() == \"madiba fc\":\n",
    "    f = Madiba_FC()\n",
    "    f.fan_page()\n",
    "    \n",
    "elif club_name.lower() == \"blue jay fc\":\n",
    "    f = Blue_Jay_FC()\n",
    "    f.fan_page()\n",
    "    \n",
    "elif club_name.lower() == \"tsg walker\":\n",
    "    f = TSG_Walker()\n",
    "    f.fan_page()\n",
    "    \n",
    "else:\n",
    "    print(\"Invalid club name!\")\n",
    "   \n",
    "\n",
    "\n",
    "\n"
   ]
  },
  {
   "cell_type": "code",
   "execution_count": 14,
   "id": "edaa0642",
   "metadata": {},
   "outputs": [
    {
     "name": "stdout",
     "output_type": "stream",
     "text": [
      "Which Vendor do you need food from?: Student center\n",
      "Chicken Fried Rice - 800 | Pomo Sauce - 300 | Spaghetti Jollof - 400 | Amala - 200 | Semo - 500\n"
     ]
    }
   ],
   "source": [
    "from abc import ABC\n",
    "\n",
    "class External_vendors(ABC):\n",
    "    \n",
    "    @abstractmethod\n",
    "    def menu(self):\n",
    "        pass\n",
    "\n",
    "class Coop(External_vendors):\n",
    "    def menu(self):\n",
    "        print(\"Jollof Rice and Stew - 200 | White Rice and Stew - 200 | Fried Rice - 200 | Salad - 100 | Platain - 100\")\n",
    "        \n",
    "    \n",
    "class Faith(External_vendors):\n",
    "    def menu(self):\n",
    "        print(\"Fried Rice - 400 | White Rice and Stew - 400 | Jollof - 400 | Beans - 200 | Chicken - 1000\")\n",
    "\n",
    "class StuCent(External_vendors):\n",
    "    def menu(self):\n",
    "        print(\"Chicken Fried Rice - 800 | Pomo Sauce - 300 | Spaghetti Jollof - 400 | Amala - 200 | Semo - 500\")\n",
    "        \n",
    "vendor = input(\"Which Vendor do you need food from?: \")\n",
    "if vendor.lower() == \"cooperative\":\n",
    "    v = Coop()\n",
    "    v.menu()\n",
    "\n",
    "elif vendor.lower() == \"faith\":\n",
    "    v = Faith()\n",
    "    v.menu()\n",
    "\n",
    "elif vendor.lower() == \"student center\":\n",
    "    v = StuCent()\n",
    "    v.menu()\n",
    "    \n",
    "    "
   ]
  },
  {
   "cell_type": "code",
   "execution_count": null,
   "id": "6db86292",
   "metadata": {},
   "outputs": [],
   "source": []
  }
 ],
 "metadata": {
  "kernelspec": {
   "display_name": "Python 3 (ipykernel)",
   "language": "python",
   "name": "python3"
  },
  "language_info": {
   "codemirror_mode": {
    "name": "ipython",
    "version": 3
   },
   "file_extension": ".py",
   "mimetype": "text/x-python",
   "name": "python",
   "nbconvert_exporter": "python",
   "pygments_lexer": "ipython3",
   "version": "3.10.9"
  }
 },
 "nbformat": 4,
 "nbformat_minor": 5
}
