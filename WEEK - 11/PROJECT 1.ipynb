{
 "cells": [
  {
   "cell_type": "code",
   "execution_count": 7,
   "id": "a7058e38",
   "metadata": {},
   "outputs": [
    {
     "name": "stdout",
     "output_type": "stream",
     "text": [
      "Enter your stock number: 69\n",
      "Your request is more than stock quantity.\n"
     ]
    }
   ],
   "source": [
    "class Orange:\n",
    "    def __init__(self, stnumber):\n",
    "        self.stnumber = stnumber\n",
    "        \n",
    "    def stockchecker(self):\n",
    "        if self.stnumber > 20:\n",
    "            print(\"Your request is more than stock quantity.\")\n",
    "        else:\n",
    "            price = 5\n",
    "            print(\"Your bill is $\",self.stnumber*price)\n",
    "\n",
    "stn = int(input(\"Enter your stock number: \"))\n",
    "james = Orange(stn)\n",
    "james.stockchecker()\n",
    "        "
   ]
  },
  {
   "cell_type": "code",
   "execution_count": null,
   "id": "169be15a",
   "metadata": {},
   "outputs": [],
   "source": []
  }
 ],
 "metadata": {
  "kernelspec": {
   "display_name": "Python 3 (ipykernel)",
   "language": "python",
   "name": "python3"
  },
  "language_info": {
   "codemirror_mode": {
    "name": "ipython",
    "version": 3
   },
   "file_extension": ".py",
   "mimetype": "text/x-python",
   "name": "python",
   "nbconvert_exporter": "python",
   "pygments_lexer": "ipython3",
   "version": "3.10.9"
  }
 },
 "nbformat": 4,
 "nbformat_minor": 5
}
