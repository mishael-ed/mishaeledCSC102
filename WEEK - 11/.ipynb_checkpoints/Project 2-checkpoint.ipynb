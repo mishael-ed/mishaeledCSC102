{
 "cells": [
  {
   "cell_type": "code",
   "execution_count": 12,
   "id": "672d9c0f",
   "metadata": {},
   "outputs": [
    {
     "name": "stdout",
     "output_type": "stream",
     "text": [
      "Enter the shape of the object you want to compute: cylinder\n",
      "Enter height of cylinder: 4\n",
      "Enter radius: 5\n",
      "314.0\n"
     ]
    }
   ],
   "source": [
    "class Calcs:\n",
    "    def __init__(self):\n",
    "        \n",
    "        pass\n",
    "        \n",
    "    def traps():\n",
    "        height = int(input(\"Enter height: \"))\n",
    "        b1 = int(input(\"Enter base1: \"))\n",
    "        b2 = int(input(\"Enter base2: \"))\n",
    "        ans = height/2 * (b1+b2)\n",
    "        print(ans)\n",
    "        \n",
    "    def rhombus():\n",
    "        d1= int(input(\"Enter diagonal 1: \"))\n",
    "        d2 = int(input(\"Enter diagonal 2: \"))\n",
    "        ans = 0.5 * d1 * d2\n",
    "        print(ans)\n",
    "    \n",
    "    def para():\n",
    "        base = int(input(\"Enter base: \"))\n",
    "        alti = int(input(\"Enter altitude: \"))\n",
    "        ans = base*alti\n",
    "        print(ans)\n",
    "    \n",
    "    def cube():\n",
    "        l = int(input(\"Enter length of sides: \"))\n",
    "        ans = 6* l **2\n",
    "        print(ans)\n",
    "    \n",
    "    def cylinder():\n",
    "        height = int(input(\"Enter height of cylinder: \"))\n",
    "        radius = int(input(\"Enter radius: \"))\n",
    "        ans = 3.14 * (radius**2) *height\n",
    "        print(ans)\n",
    "    \n",
    "jones = Calcs\n",
    "\n",
    "ceq = input(\"Enter the shape of the object you want to compute: \").upper()\n",
    "\n",
    "if ceq == \"TRAPEZIUM\":\n",
    "    jones.traps()\n",
    "    \n",
    "elif ceq == \"RHOMBUS\":\n",
    "    jones.rhombus()\n",
    "    \n",
    "elif ceq == \"PARALLELOGRAM\":\n",
    "    jones.para()\n",
    "    \n",
    "elif ceq == \"CUBE\":\n",
    "    jones.cube()\n",
    "    \n",
    "elif ceq == \"CYLINDER\":\n",
    "    jones.cylinder()\n",
    "else:\n",
    "    print(\"Invalid input\")\n",
    "    \n",
    "    \n",
    "        \n",
    "        "
   ]
  },
  {
   "cell_type": "markdown",
   "id": "a7f2d9f6",
   "metadata": {},
   "source": []
  }
 ],
 "metadata": {
  "kernelspec": {
   "display_name": "Python 3 (ipykernel)",
   "language": "python",
   "name": "python3"
  },
  "language_info": {
   "codemirror_mode": {
    "name": "ipython",
    "version": 3
   },
   "file_extension": ".py",
   "mimetype": "text/x-python",
   "name": "python",
   "nbconvert_exporter": "python",
   "pygments_lexer": "ipython3",
   "version": "3.10.9"
  }
 },
 "nbformat": 4,
 "nbformat_minor": 5
}
