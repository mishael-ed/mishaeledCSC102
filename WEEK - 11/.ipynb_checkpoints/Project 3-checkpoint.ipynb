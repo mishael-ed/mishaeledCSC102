{
 "cells": [
  {
   "cell_type": "code",
   "execution_count": 9,
   "id": "be8a39ae",
   "metadata": {},
   "outputs": [
    {
     "name": "stdout",
     "output_type": "stream",
     "text": [
      "        lager       stout         nonal\n",
      "0   33 Export      Legend       Maltina\n",
      "1  Desperados  Turbo King  Amstel Malta\n",
      "2    Goldberg    Williams    Malta Gold\n",
      "3      Gulder                   Fayrouz\n",
      "4    Heineken                          \n",
      "5        Star                          \n"
     ]
    }
   ],
   "source": [
    "import pandas as pd\n",
    "\n",
    "class File:\n",
    "    def savefile():\n",
    "        gula = {'lager' :['33 Export', 'Desperados', 'Goldberg', 'Gulder', 'Heineken', 'Star'],\n",
    "                'stout' : ['Legend', 'Turbo King', 'Williams', '', '', ''],\n",
    "                'nonal' : ['Maltina', 'Amstel Malta', 'Malta Gold', 'Fayrouz', '','']}\n",
    "        \n",
    "        df = pd.DataFrame(gula)\n",
    "        \n",
    "        # saving the dataframe\n",
    "        df.to_csv('file1.csv')\n",
    "        print(df)\n",
    "        \n",
    "clark = File\n",
    "clark.savefile()\n",
    "        \n"
   ]
  },
  {
   "cell_type": "code",
   "execution_count": null,
   "id": "28028357",
   "metadata": {},
   "outputs": [],
   "source": []
  }
 ],
 "metadata": {
  "kernelspec": {
   "display_name": "Python 3 (ipykernel)",
   "language": "python",
   "name": "python3"
  },
  "language_info": {
   "codemirror_mode": {
    "name": "ipython",
    "version": 3
   },
   "file_extension": ".py",
   "mimetype": "text/x-python",
   "name": "python",
   "nbconvert_exporter": "python",
   "pygments_lexer": "ipython3",
   "version": "3.10.9"
  }
 },
 "nbformat": 4,
 "nbformat_minor": 5
}
