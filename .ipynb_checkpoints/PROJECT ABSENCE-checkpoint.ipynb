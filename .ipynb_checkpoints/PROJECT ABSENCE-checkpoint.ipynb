{
 "cells": [
  {
   "cell_type": "code",
   "execution_count": null,
   "id": "58a090b1",
   "metadata": {},
   "outputs": [],
   "source": [
    "import pandas as pd\n",
    "\n",
    "print(\"Welcome to SIMS. Enter your information!\")\n",
    "def cd():\n",
    "    students = []\n",
    "\n",
    "    student = {}\n",
    "\n",
    "    student['Student Name'] = input(\"Enter your name: \")\n",
    "\n",
    "    student['Matric. Number'] = input(\"Enter matriculation number: \")\n",
    "    student['Department'] = input(\"Enter department: \")\n",
    "    student['Level'] = input(\"Enter level: \")\n",
    "\n",
    "    students.append(student)\n",
    "\n",
    "    df = pd.DataFrame(students)\n",
    "    return df\n",
    "\n",
    "def save(df, filename):\n",
    "    df.to_csv(filename)\n",
    "    print(f\"\\nStudent details saved to {filename}.\")\n",
    "\n",
    "\n",
    "table = cd()\n",
    "print(table)\n",
    "\n",
    "save(table, \"Table.csv\")"
   ]
  },
  {
   "cell_type": "code",
   "execution_count": null,
   "id": "80c3f466",
   "metadata": {},
   "outputs": [],
   "source": []
  }
 ],
 "metadata": {
  "kernelspec": {
   "display_name": "Python 3 (ipykernel)",
   "language": "python",
   "name": "python3"
  },
  "language_info": {
   "codemirror_mode": {
    "name": "ipython",
    "version": 3
   },
   "file_extension": ".py",
   "mimetype": "text/x-python",
   "name": "python",
   "nbconvert_exporter": "python",
   "pygments_lexer": "ipython3",
   "version": "3.10.9"
  }
 },
 "nbformat": 4,
 "nbformat_minor": 5
}
