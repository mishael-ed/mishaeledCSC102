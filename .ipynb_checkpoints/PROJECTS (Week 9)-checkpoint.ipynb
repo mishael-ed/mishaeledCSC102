{
 "cells": [
  {
   "cell_type": "code",
   "execution_count": 32,
   "id": "98e2d312",
   "metadata": {},
   "outputs": [
    {
     "name": "stdout",
     "output_type": "stream",
     "text": [
      "Enter Your Fullname (First name first):Eyo Ishan\n",
      "Verification Successful\n",
      "You have been registered in today's attendance\n",
      "Your assigned task is: Customer Service\n"
     ]
    }
   ],
   "source": [
    "import random\n",
    "\n",
    "class Employee:\n",
    "    \n",
    "    \n",
    "    def __init__(self, name):\n",
    "        self.name = name\n",
    "    \n",
    "    def check_employee(self):\n",
    "        lists = [\"Mary Evans\", \"Eyo Ishan\", \"Durojaiye Dare\", \"Adams Ali\", \"Andrew Ugwu\", \"Stella Mankinde\", \"Jane Akibo\", \"Ago James\", \"Michell Taiwo\", \"Abraham Jones\" , \"Nicole Anide\", \"Kosi Korso\", \"Adele Martins\", \"Emmanuel Ojo\", \"Ajayi Fatima\"]\n",
    "\n",
    "        for n in lists:\n",
    "            if n in lists:\n",
    "                print(\"Verification Successful\")\n",
    "                \n",
    "                blank = Employee(n)\n",
    "                blank.take_attendance()\n",
    "                blank.assign_task()\n",
    "                break\n",
    "                \n",
    "            else:\n",
    "                blank = Employee(n)\n",
    "                blank.refuse_access()\n",
    "                break\n",
    "                \n",
    "    def take_attendance(self):\n",
    "        print(\"You have been registered in today's attendance\")\n",
    "    \n",
    "    def assign_task(self):\n",
    "        tasks = [\"Loading\", \"Transporting\", \"Reveiwing Orders\", \"Customer Service\", \"Delivering Items\"]\n",
    "        random_index = random.randrange(len(tasks))\n",
    "        print(\"Your assigned task is:\", tasks[random_index])\n",
    "        \n",
    "    def refuse_access(self):\n",
    "        print(\"You were not granted access to the system.\")\n",
    "        \n",
    "name = input(\"Enter Your Fullname (First name first):\")            \n",
    "dave = Employee(name)\n",
    "dave.check_employee()\n",
    "        "
   ]
  },
  {
   "cell_type": "code",
   "execution_count": 38,
   "id": "91f30244",
   "metadata": {},
   "outputs": [
    {
     "name": "stdout",
     "output_type": "stream",
     "text": [
      "Enter your location (EPE/PAU): pau\n",
      "Enter weight(KG): 4\n",
      "Your bill is N1500\n"
     ]
    }
   ],
   "source": [
    "class Prices:\n",
    "    def __init__(self, location, weight):\n",
    "        self.location = location\n",
    "        self.weight = weight\n",
    "    \n",
    "    def price_selector(self):\n",
    "        if self.location == 'PAU':\n",
    "            if self.weight >= 10:\n",
    "                print(\"Your bill is N2000\")\n",
    "                \n",
    "            elif self.weight < 10:\n",
    "                print(\"Your bill is N1500\")\n",
    "        \n",
    "        elif self.location == 'EPE':\n",
    "            if self.weight >= 10:\n",
    "                print(\"Your bill is N5000\")\n",
    "                \n",
    "            elif self.weight < 10:\n",
    "                print(\"Your bill is N4000\")\n",
    "\n",
    "location = input(\"Enter your location (EPE/PAU): \").upper()\n",
    "weight = int(input(\"Enter weight(KG): \"))\n",
    "dan = Prices(location, weight)\n",
    "dan.price_selector()"
   ]
  }
 ],
 "metadata": {
  "kernelspec": {
   "display_name": "Python 3 (ipykernel)",
   "language": "python",
   "name": "python3"
  },
  "language_info": {
   "codemirror_mode": {
    "name": "ipython",
    "version": 3
   },
   "file_extension": ".py",
   "mimetype": "text/x-python",
   "name": "python",
   "nbconvert_exporter": "python",
   "pygments_lexer": "ipython3",
   "version": "3.10.9"
  }
 },
 "nbformat": 4,
 "nbformat_minor": 5
}
