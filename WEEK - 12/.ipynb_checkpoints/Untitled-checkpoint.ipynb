{
 "cells": [
  {
   "cell_type": "code",
   "execution_count": 2,
   "id": "d04990c0",
   "metadata": {},
   "outputs": [
    {
     "name": "stdout",
     "output_type": "stream",
     "text": [
      "The Pirates:\n",
      "    MatNo               Name  Age  Grade\n",
      "0    1810       Aina Adeleke   16     80\n",
      "2    1812    Callistus Okeke   17     40\n",
      "5    1815    Stella Olohimen   17     44\n",
      "10   1820  Wilfred Nwachukwu   16     45\n",
      "11   1821      Mildred James   15     70\n",
      "\n",
      "The Yankees:\n",
      "    MatNo            Name  Age  Grade\n",
      "4    1814     Mary Akande   20     87\n",
      "12   1822  Glory Babalola   21     69\n",
      "14   1824   Godwin Osahon   20     51\n",
      "15   1825    Philip Odion   19     68\n",
      "\n",
      "The Bulls:\n",
      "   MatNo             Name  Age  Grade\n",
      "1   1811      Sola Egbune   23     55\n",
      "3   1813    Martin Alegbe   25     77\n",
      "7   1817  Durojaiye Adamu   24     60\n"
     ]
    }
   ],
   "source": [
    "import pandas as pd\n",
    "\n",
    "class GradeClassifier:\n",
    "    def __init__(self):\n",
    "        self.students = pd.DataFrame()\n",
    "        self.pirates = pd.DataFrame()\n",
    "        self.yankees = pd.DataFrame()\n",
    "        self.bulls = pd.DataFrame()\n",
    "\n",
    "    def read_data(self, filename):\n",
    "        self.students = pd.read_csv('sis.csv')\n",
    "    \n",
    "    def classify_grades(self):\n",
    "        self.pirates = self.students[(self.students['Age'] > 14) & (self.students['Age'] < 18)]\n",
    "        self.yankees = self.students[(self.students['Age'] > 18) & (self.students['Age'] < 22)]\n",
    "        self.bulls = self.students[self.students['Age'] > 22]\n",
    "    \n",
    "    def save_to_csv(self, category, filename):\n",
    "        category.to_csv(filename, index=False)\n",
    "    \n",
    "    def display_categories(self):\n",
    "        print(\"The Pirates:\")\n",
    "        print(self.pirates)\n",
    "        print(\"\\nThe Yankees:\")\n",
    "        print(self.yankees)\n",
    "        print(\"\\nThe Bulls:\")\n",
    "        print(self.bulls)\n",
    "\n",
    "\n",
    "classifier = GradeClassifier()\n",
    "classifier.read_data('sis.csv')\n",
    "classifier.classify_grades()\n",
    "classifier.save_to_csv(classifier.pirates, 'The_Pirates.csv')\n",
    "classifier.save_to_csv(classifier.yankees, 'The_Yankees.csv')\n",
    "classifier.save_to_csv(classifier.bulls, 'The_Bulls.csv')\n",
    "classifier.display_categories()\n"
   ]
  },
  {
   "cell_type": "code",
   "execution_count": null,
   "id": "a9ea64de",
   "metadata": {},
   "outputs": [],
   "source": []
  }
 ],
 "metadata": {
  "kernelspec": {
   "display_name": "Python 3 (ipykernel)",
   "language": "python",
   "name": "python3"
  },
  "language_info": {
   "codemirror_mode": {
    "name": "ipython",
    "version": 3
   },
   "file_extension": ".py",
   "mimetype": "text/x-python",
   "name": "python",
   "nbconvert_exporter": "python",
   "pygments_lexer": "ipython3",
   "version": "3.10.9"
  }
 },
 "nbformat": 4,
 "nbformat_minor": 5
}
