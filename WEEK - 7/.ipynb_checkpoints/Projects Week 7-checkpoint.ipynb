{
 "cells": [
  {
   "cell_type": "code",
   "execution_count": 8,
   "id": "c2abcedc",
   "metadata": {},
   "outputs": [
    {
     "name": "stdout",
     "output_type": "stream",
     "text": [
      "Enter Your Surname: atelly\n",
      "Enter Your Department: delivery\n",
      "\n",
      "Welcome, ATELLY from Delivery department!\n",
      "\n",
      "Here is JT Ventures' company profile:\n",
      "   S/N SURNAME FIRST NAME DEPARTMENT  Unnamed: 4\n",
      "7  8.0  ATELLY     Daniel   Delivery         NaN\n"
     ]
    }
   ],
   "source": [
    "import pandas as pd\n",
    "\n",
    "def chk_employee(name, department):\n",
    "    employee_data = pd.read_csv(\"jt-ventures.csv\")\n",
    "\n",
    "    employee_exists = (employee_data[\"SURNAME\"] == name) & (employee_data[\"DEPARTMENT\"] == department)\n",
    "\n",
    "    if employee_exists.any():\n",
    "        print(f\"\\nWelcome, {name} from {department} department!\")\n",
    "        print(\"\\nHere is JT Ventures' company profile:\")\n",
    "        print(employee_data[employee_exists])\n",
    "    else:\n",
    "        print(f\"\\nSorry, we could not find an employee named {name} in the {department} department.\")\n",
    "\n",
    "name = input(\"Enter Your Surname: \").upper()\n",
    "department = input(\"Enter Your Department: \").title()\n",
    "\n",
    "chk_employee(name, department)"
   ]
  },
  {
   "cell_type": "code",
   "execution_count": 8,
   "id": "5aeab63e",
   "metadata": {},
   "outputs": [
    {
     "name": "stdout",
     "output_type": "stream",
     "text": [
      "WELCOME TO YEGA SERVICES\n",
      "Where are you located?\n",
      "\n",
      "Ibeju-Lekki - 1 \n",
      "Epe - 2\n",
      "\n",
      "Enter Number to Tally your Location - 2\n",
      "Enter Weight in KG - 3\n",
      "Your bill is N4000\n"
     ]
    }
   ],
   "source": [
    "print(\"WELCOME TO YEGA SERVICES\")\n",
    "print(\"Where are you located?\")\n",
    "print(\"\\nIbeju-Lekki - 1 \\nEpe - 2\")\n",
    "\n",
    "location = int(input(\"\\nEnter Number to Tally your Location - \"))\n",
    "#weight = int(input(\"Enter Weight in KG - \"))\n",
    "\n",
    "if location == 1:\n",
    "    weight = int(input(\"Enter Weight in KG - \"))\n",
    "    if weight >= 10:\n",
    "        print(\"Your bill is N2000\")\n",
    "    elif weight < 10:\n",
    "        print(\"Your bill is N1500\")\n",
    "    \n",
    "if location == 2:\n",
    "    weight = int(input(\"Enter Weight in KG - \"))\n",
    "    if weight >= 10:\n",
    "        print(\"Your bill is N5000\")\n",
    "    elif weight < 10:\n",
    "        print(\"Your bill is N4000\")\n"
   ]
  },
  {
   "cell_type": "code",
   "execution_count": 8,
   "id": "54984e69",
   "metadata": {},
   "outputs": [
    {
     "name": "stdout",
     "output_type": "stream",
     "text": [
      "Input your jamb score: 200\n",
      "Enter your name: ghin\n",
      "Input the number of credits you have: 4\n"
     ]
    }
   ],
   "source": [
    "import pandas as pd\n",
    "\n",
    "\n",
    "\n",
    "def admitschool(name, jamb, credits):\n",
    "    namelist = []\n",
    "    jamblist = []\n",
    "    creditlist = []\n",
    "    namelist.append(name)\n",
    "    jamblist.append(jamb)\n",
    "    creditlist.append(credits)\n",
    "    \n",
    "    records = {'name':[namelist],\n",
    "              'jamb':[jamblist],\n",
    "              'credits':[creditlist]}\n",
    "    df = pd.DataFrame(records)\n",
    "    df.to_csv('admitted.csv')\n",
    "\n",
    "def notadmitschool(name, jamb, credits):\n",
    "    namelist = []\n",
    "    jamblist = []\n",
    "    creditlist = []\n",
    "    \n",
    "    namelist.append(name)\n",
    "    jamblist.append(jamb)\n",
    "    creditlist.append(credits)\n",
    "    \n",
    "    records = {'name':[namelist],\n",
    "              'jamb':[jamblist],\n",
    "              'credits':[creditlist]}\n",
    "    df = pd.DataFrame(records)\n",
    "    df.to_csv('notadmitted.csv')\n",
    "    \n",
    "jamb = int(input(\"Input your jamb score: \"))\n",
    "\n",
    "name = input(\"Enter your name: \")\n",
    "\n",
    "if jamb >= 230:\n",
    "    credits = int(input(\"Input the number of credits you have: \"))\n",
    "    if credits >= 5:\n",
    "        admitschool(name, jamb, credits)\n",
    "        \n",
    "    elif credits < 5:\n",
    "        notadmitschool(name, jamb, credits)\n",
    "        \n",
    "if jamb < 230:\n",
    "    credits = int(input(\"Input the number of credits you have: \"))\n",
    "    \n",
    "    notadmitschool(name, jamb, credits)\n",
    "    \n",
    "        \n",
    "        "
   ]
  },
  {
   "cell_type": "code",
   "execution_count": null,
   "id": "5fd80429",
   "metadata": {},
   "outputs": [],
   "source": []
  }
 ],
 "metadata": {
  "kernelspec": {
   "display_name": "Python 3 (ipykernel)",
   "language": "python",
   "name": "python3"
  },
  "language_info": {
   "codemirror_mode": {
    "name": "ipython",
    "version": 3
   },
   "file_extension": ".py",
   "mimetype": "text/x-python",
   "name": "python",
   "nbconvert_exporter": "python",
   "pygments_lexer": "ipython3",
   "version": "3.10.9"
  }
 },
 "nbformat": 4,
 "nbformat_minor": 5
}
