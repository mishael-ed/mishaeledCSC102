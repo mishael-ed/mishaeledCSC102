{
 "cells": [
  {
   "cell_type": "code",
   "execution_count": 6,
   "id": "7b8a5738",
   "metadata": {},
   "outputs": [
    {
     "name": "stdout",
     "output_type": "stream",
     "text": [
      "cat\n",
      "I'm first call to user defined function\n",
      "Again second call to the same function\n"
     ]
    }
   ],
   "source": [
    "def printme(str):\n",
    "    #this is a print function\n",
    "    print(str)\n",
    "    return\n",
    "\n",
    "printme(\"I'm first call to user defined function\")\n",
    "printme(\"Again second call to the same function\")"
   ]
  },
  {
   "cell_type": "code",
   "execution_count": 7,
   "id": "f4974eaa",
   "metadata": {},
   "outputs": [
    {
     "name": "stdout",
     "output_type": "stream",
     "text": [
      "Values inside the function:  [10, 20, 30, [1, 2, 3, 4]]\n",
      "Values outside the function:  [10, 20, 30, [1, 2, 3, 4]]\n"
     ]
    }
   ],
   "source": [
    "def changeme(mylist):\n",
    "    #This changes a passed list\n",
    "    mylist.append([1,2,3,4])\n",
    "    print(\"Values inside the function: \", mylist)\n",
    "    return\n",
    "\n",
    "mylist = [10,20,30]\n",
    "changeme(mylist)\n",
    "print(\"Values outside the function: \", mylist)"
   ]
  },
  {
   "cell_type": "code",
   "execution_count": 9,
   "id": "11a5b63e",
   "metadata": {},
   "outputs": [
    {
     "name": "stdout",
     "output_type": "stream",
     "text": [
      "Dead\n"
     ]
    }
   ],
   "source": [
    "def printme(str):\n",
    "    #This prints a passed string\n",
    "    print(str)\n",
    "    return\n",
    "\n",
    "printme(\"Dead\")"
   ]
  },
  {
   "cell_type": "code",
   "execution_count": 10,
   "id": "669de09a",
   "metadata": {},
   "outputs": [
    {
     "name": "stdout",
     "output_type": "stream",
     "text": [
      "Dead\n"
     ]
    }
   ],
   "source": [
    "def printme(str):\n",
    "    #This prints a passed string\n",
    "    print(str)\n",
    "    return\n",
    "\n",
    "printme(str = \"Dead\")"
   ]
  },
  {
   "cell_type": "code",
   "execution_count": 11,
   "id": "32a63a4a",
   "metadata": {},
   "outputs": [
    {
     "name": "stdout",
     "output_type": "stream",
     "text": [
      "Name:  miki\n",
      "Age:  50\n"
     ]
    }
   ],
   "source": [
    "def printinfo(name, age):\n",
    "    #Test function\n",
    "    print(\"Name: \", name)\n",
    "    print(\"Age: \", age)\n",
    "    return\n",
    "printinfo(age = 50, name = \"miki\")"
   ]
  },
  {
   "cell_type": "code",
   "execution_count": 12,
   "id": "e26c5685",
   "metadata": {},
   "outputs": [
    {
     "name": "stdout",
     "output_type": "stream",
     "text": [
      "Name:  miki\n",
      "Age:  50\n",
      "Name:  miki\n",
      "Age:  35\n"
     ]
    }
   ],
   "source": [
    "def printinfo(name, age = 35):\n",
    "    #Test function\n",
    "    print(\"Name: \", name);\n",
    "    print(\"Age: \", age)\n",
    "    return\n",
    "\n",
    "printinfo(age = 50, name = \"miki\")\n",
    "printinfo(name = \"miki\")"
   ]
  },
  {
   "cell_type": "code",
   "execution_count": 16,
   "id": "b9d13bfc",
   "metadata": {},
   "outputs": [
    {
     "name": "stdout",
     "output_type": "stream",
     "text": [
      "Output is: \n",
      "10\n",
      "Output is: \n",
      "flame\n",
      "60\n"
     ]
    }
   ],
   "source": [
    "def printinfo(arg1, *vartuple):\n",
    "    #This is test\n",
    "    print(\"Output is: \")\n",
    "    print(arg1)\n",
    "    for var in vartuple:\n",
    "        print(var)\n",
    "        return\n",
    "printinfo(10)\n",
    "printinfo(\"flame\", 60, 50)"
   ]
  },
  {
   "cell_type": "code",
   "execution_count": 17,
   "id": "d3210d69",
   "metadata": {},
   "outputs": [
    {
     "name": "stdout",
     "output_type": "stream",
     "text": [
      "Inside the function local total:  30\n",
      "Outside the function global total:  50\n"
     ]
    }
   ],
   "source": [
    "total = 50\n",
    "def sum(arg1, arg2):\n",
    "    total = arg1 + arg2\n",
    "    print(\"Inside the function local total: \", total)\n",
    "    return total\n",
    "\n",
    "sum(10, 20)\n",
    "print(\"Outside the function global total: \", total)"
   ]
  },
  {
   "cell_type": "code",
   "execution_count": 18,
   "id": "13720908",
   "metadata": {},
   "outputs": [
    {
     "name": "stdout",
     "output_type": "stream",
     "text": [
      "Lawal Edward Tolu Tina\n",
      "Mary\n"
     ]
    }
   ],
   "source": [
    "def swap(x, y):\n",
    "    global a\n",
    "    a = \"Lawal\"\n",
    "    x,y = y,x\n",
    "    b = \"Chris\"\n",
    "    b = \"Edward\"\n",
    "    c = \"Lola\"\n",
    "    print(a, b, x, y)\n",
    "    a = \"Mary\"\n",
    "swap(\"Tina\", \"Tolu\")\n",
    "print(a)"
   ]
  },
  {
   "cell_type": "code",
   "execution_count": null,
   "id": "89511188",
   "metadata": {},
   "outputs": [],
   "source": []
  }
 ],
 "metadata": {
  "kernelspec": {
   "display_name": "Python 3 (ipykernel)",
   "language": "python",
   "name": "python3"
  },
  "language_info": {
   "codemirror_mode": {
    "name": "ipython",
    "version": 3
   },
   "file_extension": ".py",
   "mimetype": "text/x-python",
   "name": "python",
   "nbconvert_exporter": "python",
   "pygments_lexer": "ipython3",
   "version": "3.10.9"
  }
 },
 "nbformat": 4,
 "nbformat_minor": 5
}
