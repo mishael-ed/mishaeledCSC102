{
 "cells": [
  {
   "cell_type": "code",
   "execution_count": 5,
   "id": "58a090b1",
   "metadata": {},
   "outputs": [
    {
     "name": "stdout",
     "output_type": "stream",
     "text": [
      "Welcome to SIMS. Enter your information!\n",
      "Enter your name: ed\n",
      "Enter matriculation number: ed\n",
      "Enter department: eg\n",
      "Enter level: eg\n"
     ]
    },
    {
     "data": {
      "text/html": [
       "<div>\n",
       "<style scoped>\n",
       "    .dataframe tbody tr th:only-of-type {\n",
       "        vertical-align: middle;\n",
       "    }\n",
       "\n",
       "    .dataframe tbody tr th {\n",
       "        vertical-align: top;\n",
       "    }\n",
       "\n",
       "    .dataframe thead th {\n",
       "        text-align: right;\n",
       "    }\n",
       "</style>\n",
       "<table border=\"1\" class=\"dataframe\">\n",
       "  <thead>\n",
       "    <tr style=\"text-align: right;\">\n",
       "      <th></th>\n",
       "      <th>Student Name</th>\n",
       "      <th>Matric. Number</th>\n",
       "      <th>Department</th>\n",
       "      <th>Level</th>\n",
       "    </tr>\n",
       "  </thead>\n",
       "  <tbody>\n",
       "    <tr>\n",
       "      <th>0</th>\n",
       "      <td>ed</td>\n",
       "      <td>ed</td>\n",
       "      <td>eg</td>\n",
       "      <td>eg</td>\n",
       "    </tr>\n",
       "  </tbody>\n",
       "</table>\n",
       "</div>"
      ],
      "text/plain": [
       "  Student Name Matric. Number Department Level\n",
       "0           ed             ed         eg    eg"
      ]
     },
     "execution_count": 5,
     "metadata": {},
     "output_type": "execute_result"
    }
   ],
   "source": [
    "import pandas as pd\n",
    "\n",
    "print(\"Welcome to SIMS. Enter your information!\")\n",
    "def cd():\n",
    "    students = []\n",
    "\n",
    "    student = {}\n",
    "\n",
    "    student['Student Name'] = input(\"Enter your name: \")\n",
    "\n",
    "    student['Matric. Number'] = input(\"Enter matric number: \")\n",
    "    student['Department'] = input(\"Enter department: \")\n",
    "    student['Level'] = input(\"Enter level: \")\n",
    "\n",
    "    students.append(student)\n",
    "\n",
    "    df = pd.DataFrame(students)\n",
    "    return df\n",
    "    \n",
    "    df.to_csv(\"TABLE.csv\")\n",
    "\n",
    "cd()\n"
   ]
  },
  {
   "cell_type": "code",
   "execution_count": 43,
   "id": "80c3f466",
   "metadata": {},
   "outputs": [
    {
     "name": "stdout",
     "output_type": "stream",
     "text": [
      "    Company  Founded  Company’s shares  Company’s liability   Leverage\n",
      "0     Enron     1987           1000000               200000  80.000000\n",
      "1  Anderson     1936           1500000               500000  66.666667\n",
      "2  GK Jones     2001           3000000              1500000  50.000000\n",
      "3      Mica     1996            250000                50000  80.000000\n",
      "4      Dune     2008            800000               300000  62.500000\n",
      "Company data saved.\n"
     ]
    }
   ],
   "source": [
    "import pandas as pd\n",
    "\n",
    "data = {\n",
    "    'Company': ['Enron', 'Anderson', 'GK Jones', 'Mica', 'Dune'],\n",
    "    'Founded': [1987, 1936, 2001, 1996, 2008],\n",
    "    'Company’s shares': [1000000, 1500000, 3000000, 250000, 800000],\n",
    "    'Company’s liability': [200000, 500000, 1500000, 50000, 300000]\n",
    "}\n",
    "\n",
    "\n",
    "\n",
    "df = pd.DataFrame(data)\n",
    "df['Leverage'] = ((df['Company’s shares'] - df['Company’s liability']) / df['Company’s shares']) * 100\n",
    "print(df)\n",
    "\n",
    "filename = \"company_data.csv\"\n",
    "df.to_csv(filename)\n",
    "\n",
    "print(\"Company data saved.\")"
   ]
  },
  {
   "cell_type": "code",
   "execution_count": null,
   "id": "5d03fd9a",
   "metadata": {},
   "outputs": [],
   "source": []
  },
  {
   "cell_type": "code",
   "execution_count": null,
   "id": "e97b7a84",
   "metadata": {},
   "outputs": [],
   "source": []
  }
 ],
 "metadata": {
  "kernelspec": {
   "display_name": "Python 3 (ipykernel)",
   "language": "python",
   "name": "python3"
  },
  "language_info": {
   "codemirror_mode": {
    "name": "ipython",
    "version": 3
   },
   "file_extension": ".py",
   "mimetype": "text/x-python",
   "name": "python",
   "nbconvert_exporter": "python",
   "pygments_lexer": "ipython3",
   "version": "3.10.9"
  }
 },
 "nbformat": 4,
 "nbformat_minor": 5
}
