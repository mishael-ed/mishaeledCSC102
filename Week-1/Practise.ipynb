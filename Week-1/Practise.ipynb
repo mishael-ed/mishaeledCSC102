{
 "cells": [
  {
   "cell_type": "code",
   "execution_count": 28,
   "id": "065457ce",
   "metadata": {},
   "outputs": [
    {
     "name": "stdout",
     "output_type": "stream",
     "text": [
      "THIS PROGRAM WILL CALCULATE YOUR SIMPLE INTEREST\n",
      "\n",
      "ENTER PRINCIPAL: 2\n",
      "\n",
      "ENTER YOUR INTEREST RATE: 3\n",
      "\n",
      "ENTER YOUR TIME FRAME: 4\n",
      "\n",
      "The amount to be paid is 2.24.\n"
     ]
    }
   ],
   "source": [
    "print(\"THIS PROGRAM WILL CALCULATE YOUR SIMPLE INTEREST\")\n",
    "p = float(input(\"\\nENTER PRINCIPAL: \"))\n",
    "r = float(input(\"\\nENTER YOUR INTEREST RATE: \"))\n",
    "t = float(input(\"\\nENTER YOUR TIME FRAME: \"))\n",
    "\n",
    "a = p*(1+((r)/100)*t)\n",
    "\n",
    "print(\"\\nThe amount to be paid is \" + str(a) + \".\")"
   ]
  },
  {
   "cell_type": "code",
   "execution_count": null,
   "id": "5dd2d09f",
   "metadata": {},
   "outputs": [],
   "source": []
  },
  {
   "cell_type": "code",
   "execution_count": 29,
   "id": "77e6cfd3",
   "metadata": {
    "scrolled": true
   },
   "outputs": [
    {
     "name": "stdout",
     "output_type": "stream",
     "text": [
      "THIS PROGRAM WILL CALCULATE YOUR COMPOUND INTEREST\n",
      "\n",
      "ENTER PRINCIPAL: 3\n",
      "\n",
      "ENTER YOUR INTEREST RATE: 4\n",
      "\n",
      "ENTER YOUR TIME FRAME: 5\n",
      "\n",
      "ENTER NUMBER OF PAYMENTS: 6\n",
      "The amount to be paid is 13570121.721230954.\n"
     ]
    }
   ],
   "source": [
    "print(\"THIS PROGRAM WILL CALCULATE YOUR COMPOUND INTEREST\")\n",
    "p = float(input(\"\\nENTER PRINCIPAL: \"))\n",
    "r = float(input(\"\\nENTER YOUR INTEREST RATE: \"))\n",
    "t = float(input(\"\\nENTER YOUR TIME FRAME: \"))\n",
    "n = float(input(\"\\nENTER NUMBER OF PAYMENTS: \"))\n",
    "\n",
    "a = p*((1 + r/n)**(n*t))\n",
    "\n",
    "print(\"The amount to be paid is \" + str(a) + \".\")"
   ]
  },
  {
   "cell_type": "code",
   "execution_count": 30,
   "id": "b5b89930",
   "metadata": {},
   "outputs": [
    {
     "name": "stdout",
     "output_type": "stream",
     "text": [
      "THIS PROGRAM WILL CALCULATE YOUR ANNUITY\n",
      "\n",
      "ENTER PMT: 2\n",
      "\n",
      "ENTER YOUR INTEREST RATE: 3\n",
      "\n",
      "ENTER YOUR TIME FRAME: 4\n",
      "\n",
      "ENTER NUMBER OF PAYMENTS: 5\n",
      "The amount to be paid is 40294.19398715435.\n"
     ]
    }
   ],
   "source": [
    "print(\"THIS PROGRAM WILL CALCULATE YOUR ANNUITY\")\n",
    "\n",
    "p = float(input(\"\\nENTER PMT: \"))\n",
    "r = float(input(\"\\nENTER YOUR INTEREST RATE: \"))\n",
    "t = float(input(\"\\nENTER YOUR TIME FRAME: \"))\n",
    "n = float(input(\"\\nENTER NUMBER OF PAYMENTS: \"))\n",
    "\n",
    "a = p*(((1 + r/n)**(n*t)-1)/(r/n))\n",
    "\n",
    "print(\"The amount to be paid is \" + str(a) + \".\")"
   ]
  },
  {
   "cell_type": "markdown",
   "id": "aff4d0ed",
   "metadata": {},
   "source": []
  }
 ],
 "metadata": {
  "kernelspec": {
   "display_name": "Python 3 (ipykernel)",
   "language": "python",
   "name": "python3"
  },
  "language_info": {
   "codemirror_mode": {
    "name": "ipython",
    "version": 3
   },
   "file_extension": ".py",
   "mimetype": "text/x-python",
   "name": "python",
   "nbconvert_exporter": "python",
   "pygments_lexer": "ipython3",
   "version": "3.10.9"
  }
 },
 "nbformat": 4,
 "nbformat_minor": 5
}
