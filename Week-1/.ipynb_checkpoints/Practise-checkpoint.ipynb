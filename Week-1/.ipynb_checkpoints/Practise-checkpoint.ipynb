{
 "cells": [
  {
   "cell_type": "code",
   "execution_count": 16,
   "id": "22efbe67",
   "metadata": {},
   "outputs": [
    {
     "name": "stdout",
     "output_type": "stream",
     "text": [
      "THIS PROGRAM WILL CALCULATE YOUR SIMPLE INTEREST\n",
      "\n",
      "ENTER PRINCIPAL: 3\n",
      "\n",
      "ENTER YOUR INTEREST RATE: 4\n",
      "\n",
      "ENTER YOUR TIME FRAME: 5\n",
      "The amount to be paid is 3.\n"
     ]
    }
   ],
   "source": [
    "print(\"THIS PROGRAM WILL CALCULATE YOUR SIMPLE INTEREST\")\n",
    "p = input(\"\\nENTER PRINCIPAL: \")\n",
    "r = input(\"\\nENTER YOUR INTEREST RATE: \")\n",
    "t = input(\"\\nENTER YOUR TIME FRAME: \")\n",
    "\n",
    "a = int(p)*(1+(int((int(r))//100)*int(t)))\n",
    "\n",
    "print(\"The amount to be paid is \" + str(a) + \".\")"
   ]
  },
  {
   "cell_type": "code",
   "execution_count": 20,
   "id": "0b387534",
   "metadata": {},
   "outputs": [
    {
     "name": "stdout",
     "output_type": "stream",
     "text": [
      "THIS PROGRAM WILL CALCULATE YOUR COMPOUND INTEREST\n",
      "\n",
      "ENTER PRINCIPAL: 1\n",
      "\n",
      "ENTER YOUR INTEREST RATE: 2\n",
      "\n",
      "ENTER YOUR TIME FRAME: 3\n",
      "\n",
      "ENTER NUMBER OF PAYMENTS: 4\n",
      "The amount to be paid is 1.\n"
     ]
    }
   ],
   "source": [
    "print(\"THIS PROGRAM WILL CALCULATE YOUR COMPOUND INTEREST\")\n",
    "p = int(input(\"\\nENTER PRINCIPAL: \"))\n",
    "r = input(\"\\nENTER YOUR INTEREST RATE: \")\n",
    "t = input(\"\\nENTER YOUR TIME FRAME: \")\n",
    "n = input(\"\\nENTER NUMBER OF PAYMENTS: \")\n",
    "\n",
    "a = int(p)*(1 + (int(r)//int(n)))**(int(n)//int(t))\n",
    "\n",
    "print(\"The amount to be paid is \" + str(a) + \".\")"
   ]
  },
  {
   "cell_type": "code",
   "execution_count": null,
   "id": "f126eb27",
   "metadata": {},
   "outputs": [],
   "source": []
  }
 ],
 "metadata": {
  "kernelspec": {
   "display_name": "Python 3 (ipykernel)",
   "language": "python",
   "name": "python3"
  },
  "language_info": {
   "codemirror_mode": {
    "name": "ipython",
    "version": 3
   },
   "file_extension": ".py",
   "mimetype": "text/x-python",
   "name": "python",
   "nbconvert_exporter": "python",
   "pygments_lexer": "ipython3",
   "version": "3.10.9"
  }
 },
 "nbformat": 4,
 "nbformat_minor": 5
}
